{
  "nbformat": 4,
  "nbformat_minor": 0,
  "metadata": {
    "colab": {
      "name": "Linked List -1",
      "provenance": [],
      "collapsed_sections": [],
      "authorship_tag": "ABX9TyNsmfNbLmVjpEUNrUOd4C4f",
      "include_colab_link": true
    },
    "kernelspec": {
      "name": "python3",
      "display_name": "Python 3"
    },
    "language_info": {
      "name": "python"
    }
  },
  "cells": [
    {
      "cell_type": "markdown",
      "metadata": {
        "id": "view-in-github",
        "colab_type": "text"
      },
      "source": [
        "<a href=\"https://colab.research.google.com/github/AhzamAkhtar/phonenumbers/blob/master/Linked_List_1.ipynb\" target=\"_parent\"><img src=\"https://colab.research.google.com/assets/colab-badge.svg\" alt=\"Open In Colab\"/></a>"
      ]
    },
    {
      "cell_type": "markdown",
      "source": [
        "# Linked List Basic"
      ],
      "metadata": {
        "id": "Cp4DTag6tsQK"
      }
    },
    {
      "cell_type": "code",
      "execution_count": null,
      "metadata": {
        "colab": {
          "base_uri": "https://localhost:8080/"
        },
        "id": "PeexIwF61S8B",
        "outputId": "d1c3bef5-52d9-4438-9033-273fc1442087"
      },
      "outputs": [
        {
          "output_type": "stream",
          "name": "stdout",
          "text": [
            "13\n",
            "15\n",
            "15\n",
            "<__main__.Node object at 0x7f6154150d50>\n",
            "<__main__.Node object at 0x7f6154150c90>\n",
            "<__main__.Node object at 0x7f6154150c90>\n",
            "None\n"
          ]
        }
      ],
      "source": [
        "class Node:\n",
        "  def __init__(self,data):\n",
        "    self.data=data\n",
        "    self.next=None\n",
        "a=Node(13)\n",
        "b=Node(15)\n",
        "a.next=b\n",
        "print(a.data)\n",
        "print(b.data)\n",
        "print(a.next.data)\n",
        "print(a)\n",
        "print(a.next)\n",
        "print(b)\n",
        "print(b.next)\n",
        "# print(b.nest.data)"
      ]
    },
    {
      "cell_type": "markdown",
      "source": [
        "# Take Input And Print Linked List\n"
      ],
      "metadata": {
        "id": "4ApLo1ZTtxdD"
      }
    },
    {
      "cell_type": "code",
      "source": [
        "class Node:\n",
        "  def __init__(self,data):\n",
        "    self.data=data\n",
        "    self.next=None\n",
        "def printLL(head):\n",
        "  while head is not None:\n",
        "    print(str(head.data)+\"->\",end=\" \")\n",
        "    head=head.next\n",
        "  print(\"None\")\n",
        "  return \n",
        "def takeInput(): \n",
        "  inputList=[int(ele) for ele in input().split()]\n",
        "  head=None\n",
        "  for currData in inputList:\n",
        "    if currData==-1:\n",
        "      break\n",
        "    newNode=Node(currData)\n",
        "    if head is None:\n",
        "      head=newNode\n",
        "    else:\n",
        "      curr=head\n",
        "      while curr.next is not None:\n",
        "        curr=curr.next\n",
        "      curr.next=newNode\n",
        "  return head\n",
        "\n",
        "head=takeInput()\n",
        "printLL(head)\n",
        "printLL(head)"
      ],
      "metadata": {
        "colab": {
          "base_uri": "https://localhost:8080/"
        },
        "id": "laFXcTzGgo6F",
        "outputId": "e9a816e6-a187-42b9-ff48-c045a19c58e9"
      },
      "execution_count": null,
      "outputs": [
        {
          "output_type": "stream",
          "name": "stdout",
          "text": [
            "1 2 3 4 5 6 -1\n",
            "1-> 2-> 3-> 4-> 5-> 6-> None\n",
            "1-> 2-> 3-> 4-> 5-> 6-> None\n"
          ]
        }
      ]
    },
    {
      "cell_type": "markdown",
      "source": [
        "# Insert at i th position \n",
        "# but wont work if you want to add at index 0"
      ],
      "metadata": {
        "id": "NKr16-nAuVgy"
      }
    },
    {
      "cell_type": "code",
      "source": [
        "class Node:\n",
        "  def __init__(self,data):\n",
        "    self.data=data\n",
        "    self.next=None\n",
        "def printLL(head):\n",
        "  while head is not None:\n",
        "    print(str(head.data)+\"->\",end=\" \")\n",
        "    head=head.next\n",
        "  print(\"None\")\n",
        "  return\n",
        "\n",
        "def length(head):\n",
        "  count=0\n",
        "  while head is not None:\n",
        "    count=count+1\n",
        "    head=head.next\n",
        "  return count\n",
        "\n",
        "def insert(head,i,data):\n",
        "  if i<0 or i>length(head):\n",
        "    return head\n",
        "  count=0\n",
        "  prev=None\n",
        "  curr=head\n",
        "  while count<i:\n",
        "    prev=curr\n",
        "    curr=curr.next\n",
        "    count=count+1 \n",
        "  newNode=Node(data)\n",
        "  prev.next=newNode\n",
        "  newNode.next=curr\n",
        "  return head\n",
        " \n",
        "def takeInput():\n",
        "  inputList=[int(ele) for ele in input().split()]\n",
        "  head=None\n",
        "  tail=None\n",
        "  for currData in inputList:\n",
        "    if currData==-1:\n",
        "      break\n",
        "    newNode=Node(currData)\n",
        "    if head is None:\n",
        "      head=newNode\n",
        "      tail=newNode\n",
        "    else:\n",
        "      tail.next=newNode\n",
        "      tail=newNode\n",
        "  return head\n",
        "\n",
        "head=takeInput()"
      ],
      "metadata": {
        "colab": {
          "base_uri": "https://localhost:8080/"
        },
        "id": "ZmTbasfj5nCB",
        "outputId": "24d64c25-8ef1-41e2-eff9-b25091f54d57"
      },
      "execution_count": null,
      "outputs": [
        {
          "output_type": "stream",
          "name": "stdout",
          "text": [
            "1 2 34 5\n",
            "1-> 2-> 34-> 5-> None\n",
            "1-> 2-> 34-> 5-> None\n"
          ]
        }
      ]
    },
    {
      "cell_type": "markdown",
      "source": [
        "# Insert at i th position"
      ],
      "metadata": {
        "id": "-_ABVCS1udG0"
      }
    },
    {
      "cell_type": "code",
      "source": [
        "class Node:\n",
        "  def __init__(self,data):\n",
        "    self.data=data\n",
        "    self.next=None\n",
        "def printLL(head):\n",
        "  while head is not None:\n",
        "    print(str(head.data)+\"->\",end=\" \")\n",
        "    head=head.next\n",
        "  print(\"None\")\n",
        "  return\n",
        "\n",
        "def length(head):\n",
        "  count=0\n",
        "  while head is not None:\n",
        "    count=count+1\n",
        "    head=head.next\n",
        "  return count\n",
        "\n",
        "def insert(head,i,data):\n",
        "  if i<0 or i>length(head):\n",
        "    return head\n",
        "  count=0\n",
        "  prev=None\n",
        "  curr=head\n",
        "  while count<i:\n",
        "    prev=curr\n",
        "    curr=curr.next\n",
        "    count=count+1 \n",
        "  newNode=Node(data)\n",
        "  if prev is not None:\n",
        "    prev.next=newNode\n",
        "  else:\n",
        "    head=newNode\n",
        "  #newNode.next=curr\n",
        "\n",
        "  return head\n",
        " \n",
        "def takeInput():\n",
        "  inputList=[int(ele) for ele in input().split()]\n",
        "  head=None\n",
        "  tail=None\n",
        "  for currData in inputList:\n",
        "    if currData==-1:\n",
        "      break\n",
        "    newNode=Node(currData)\n",
        "    if head is None:\n",
        "      head=newNode\n",
        "      tail=newNode\n",
        "    else:\n",
        "      tail.next=newNode\n",
        "      tail=newNode\n",
        "  return head \n",
        "\n",
        "head=takeInput()\n",
        "printLL(head)\n",
        "head=insert(head,2,6)\n",
        "printLL(head)\n",
        "head=insert(head,0,9)\n",
        "printLL(head)\n",
        "length(head)"
      ],
      "metadata": {
        "colab": {
          "base_uri": "https://localhost:8080/"
        },
        "id": "1cL-3SSToZmD",
        "outputId": "d2868098-3ba2-44d5-f363-bcd411f3a881"
      },
      "execution_count": null,
      "outputs": [
        {
          "output_type": "stream",
          "name": "stdout",
          "text": [
            "1 2 3 4 5 6\n",
            "1-> 2-> 3-> 4-> 5-> 6-> None\n",
            "1-> 2-> 6-> 3-> 4-> 5-> 6-> None\n",
            "9-> 1-> 2-> 6-> 3-> 4-> 5-> 6-> None\n"
          ]
        },
        {
          "output_type": "execute_result",
          "data": {
            "text/plain": [
              "8"
            ]
          },
          "metadata": {},
          "execution_count": 8
        }
      ]
    },
    {
      "cell_type": "markdown",
      "source": [
        "# Delete Node"
      ],
      "metadata": {
        "id": "X9_azfpr61Ou"
      }
    },
    {
      "cell_type": "code",
      "source": [
        "from sys import stdin\n",
        "\n",
        "#Following is the Node class already written for the Linked List\n",
        "class Node :\n",
        "    def __init__(self, data) :\n",
        "        self.data = data\n",
        "        self.next = None\n",
        "\n",
        "\n",
        "def deleteNode(head, i) :\n",
        "    #Your code goes here\n",
        "    curr=head\n",
        "    if head==None:\n",
        "        return None\n",
        "    if i==0:\n",
        "        p=curr.next\n",
        "        return p\n",
        "    c=0\n",
        "    while curr is not None and i-1!=c:\n",
        "        c=c+1\n",
        "        curr=curr.next\n",
        "    if i-1==c:\n",
        "        p=curr.next\n",
        "        if p==None:\n",
        "            return head\n",
        "        curr.next=p.next\n",
        "    return head\n",
        "\n",
        "#Taking Input Using Fast I/O\n",
        "def takeInput() :\n",
        "    head = None\n",
        "    tail = None\n",
        "\n",
        "    datas = list(map(int, stdin.readline().rstrip().split(\" \")))\n",
        "\n",
        "    i = 0\n",
        "    while (i < len(datas)) and (datas[i] != -1) :\n",
        "        data = datas[i]\n",
        "        newNode = Node(data)\n",
        "\n",
        "        if head is None :\n",
        "            head = newNode\n",
        "            tail = newNode\n",
        "\n",
        "        else :\n",
        "            tail.next = newNode\n",
        "            tail = newNode\n",
        "\n",
        "        i += 1\n",
        "\n",
        "    return head\n",
        "\n",
        "\n",
        "\n",
        "#to print the linked list \n",
        "def printLinkedList(head) :\n",
        "\n",
        "    while head is not None :\n",
        "        print(head.data, end = \" \")\n",
        "        head = head.next\n",
        "\n",
        "    print()\n",
        "\n",
        "\n",
        "#main\n",
        "t = int(stdin.readline().strip())\n",
        "\n",
        "while t > 0 :\n",
        "    \n",
        "    head = takeInput()\n",
        "    pos = int(stdin.readline().rstrip())\n",
        "    \n",
        "    head = deleteNode(head, pos)\n",
        "    printLinkedList(head)\n",
        "\n",
        "    t -= 1"
      ],
      "metadata": {
        "id": "62bndfKz6z8f"
      },
      "execution_count": null,
      "outputs": []
    },
    {
      "cell_type": "markdown",
      "source": [
        "# Print I th Node"
      ],
      "metadata": {
        "id": "UW-YOnmyM3Ve"
      }
    },
    {
      "cell_type": "code",
      "source": [
        "\n",
        "from sys import stdin\n",
        "\n",
        "#Following is the Node class already written for the Linked List\n",
        "class Node :\n",
        "    def __init__(self, data) :\n",
        "        self.data = data\n",
        "        self.next = None\n",
        "\n",
        "\n",
        "def printIthNode(head, i):\n",
        "    count = 0\n",
        "    curr = head\n",
        "    while curr is not None:\n",
        "        if count == i :\n",
        "            print(curr.data)\n",
        "        count=count + 1\n",
        "        curr= curr.next\n",
        "    return 0\n",
        "#Taking Input Using Fast I/O\n",
        "def takeInput() :\n",
        "    head = None\n",
        "    tail = None\n",
        "\n",
        "    datas = list(map(int, stdin.readline().rstrip().split(\" \")))\n",
        "\n",
        "    i = 0\n",
        "    while (i < len(datas)) and (datas[i] != -1) :\n",
        "        data = datas[i]\n",
        "        newNode = Node(data)\n",
        "\n",
        "        if head is None :\n",
        "            head = newNode\n",
        "            tail = newNode\n",
        "\n",
        "        else :\n",
        "            tail.next = newNode\n",
        "            tail = newNode\n",
        "\n",
        "        i += 1\n",
        "\n",
        "    return head\n",
        "\n",
        "\n",
        "#to print the linked list \n",
        "def printLinkedList(head) :\n",
        "\n",
        "    while head is not None :\n",
        "        print(head.data, end = \" \")\n",
        "        head = head.next\n",
        "\n",
        "    print()\n",
        "\n",
        "\n",
        "#main\n",
        "t = int(stdin.readline().rstrip())\n",
        "\n",
        "while t > 0 :\n",
        "\n",
        "    head = takeInput()\n",
        "    i = int(stdin.readline().rstrip())\n",
        "    printIthNode(head, i)\n",
        "\n",
        "    t -= 1"
      ],
      "metadata": {
        "id": "nVeD8UxRMx45"
      },
      "execution_count": null,
      "outputs": []
    },
    {
      "cell_type": "markdown",
      "source": [
        "# Find a Node in linked list "
      ],
      "metadata": {
        "id": "P8LOuZ4eVuMB"
      }
    },
    {
      "cell_type": "code",
      "source": [
        "from sys import stdin\n",
        "\n",
        "#Following is the Node class already written for the Linked List\n",
        "class Node :\n",
        "    def __init__(self, data) :\n",
        "        self.data = data\n",
        "        self.next = None\n",
        "\n",
        "\n",
        "def findNode(head, n):\n",
        "    count = 0\n",
        "    curr = head\n",
        "    while curr is not None:\n",
        "        if curr.data == n :\n",
        "            return count\n",
        "        count=count + 1\n",
        "        curr= curr.next\n",
        "    return -1\n"
      ],
      "metadata": {
        "id": "9tntNqdzVm3c"
      },
      "execution_count": null,
      "outputs": []
    },
    {
      "cell_type": "markdown",
      "source": [
        "# AppendLastNToFirst"
      ],
      "metadata": {
        "id": "FHampodsHSH6"
      }
    },
    {
      "cell_type": "code",
      "source": [
        "\n",
        "from sys import stdin\n",
        "\n",
        "#Following is the Node class already written for the Linked List\n",
        "class Node :\n",
        "    def __init__(self, data) :\n",
        "        self.data = data\n",
        "        self.next = None\n",
        "\n",
        "def lengthRecursive(head):\n",
        "    # A linked list, find and return the length of input LL recursively.\n",
        "    # Write your code here\n",
        "    counter = 0\n",
        "    temp = head\n",
        "    while temp!=None:\n",
        "        counter+=1\n",
        "        temp = temp.next\n",
        "    return counter\n",
        "\n",
        "def appendLastNToFirst(head, n) :\n",
        "    #Your code goes here\n",
        "    pos = lengthRecursive(head)-n\n",
        "    if pos<0:\n",
        "        return head\n",
        "    fp = head.next\n",
        "    bp = head\n",
        "    i=1\n",
        "    while i<pos:\n",
        "        if fp.next==None:\n",
        "            return head\n",
        "        bp,fp=fp,fp.next\n",
        "        i+=1\n",
        "    while fp.next!=None:\n",
        "        fp = fp.next\n",
        "    fp.next = head\n",
        "    head = bp.next\n",
        "    bp.next = None\n",
        "    return head\n",
        "\n",
        "#Taking Input Using Fast I/O\n",
        "def takeInput() :\n",
        "    head = None\n",
        "    tail = None\n",
        "\n",
        "    datas = list(map(int, stdin.readline().rstrip().split(\" \")))\n",
        "\n",
        "    i = 0\n",
        "    while (i < len(datas)) and (datas[i] != -1) :\n",
        "        data = datas[i]\n",
        "        newNode = Node(data)\n",
        "\n",
        "        if head is None :\n",
        "            head = newNode\n",
        "            tail = newNode\n",
        "\n",
        "        else :\n",
        "            tail.next = newNode\n",
        "            tail = newNode\n",
        "\n",
        "        i += 1\n",
        "\n",
        "    return head\n",
        "\n",
        "\n",
        "#to print the linked list \n",
        "def printLinkedList(head) :\n",
        "\n",
        "    while head is not None :\n",
        "        print(head.data, end = \" \")\n",
        "        head = head.next\n",
        "\n",
        "    print()\n",
        "\n",
        "\n",
        "#main\n",
        "t = int(stdin.readline().rstrip())\n",
        "\n",
        "while t > 0 :\n",
        "\n",
        "    head = takeInput()\n",
        "    n = int(stdin.readline().rstrip())\n",
        "\n",
        "    head = appendLastNToFirst(head, n)\n",
        "    printLinkedList(head)\n",
        "\n",
        "    t -= 1 "
      ],
      "metadata": {
        "id": "yBFjfq_PHXe2"
      },
      "execution_count": null,
      "outputs": []
    },
    {
      "cell_type": "markdown",
      "source": [
        "# Eliminate duplicates from LL"
      ],
      "metadata": {
        "id": "j6SbzTx5Hau1"
      }
    },
    {
      "cell_type": "code",
      "source": [
        "from sys import stdin\n",
        "\n",
        "#Following is the Node class already written for the Linked List\n",
        "class Node :\n",
        "    def __init__(self, data) :\n",
        "        self.data = data\n",
        "        self.next = None\n",
        "\n",
        "\n",
        "\n",
        "\n",
        "def removeDuplicates(head) :\n",
        "    temp = head\n",
        "    if temp == None:\n",
        "        return\n",
        "    while temp.next is not None:\n",
        "        if (temp.data == temp.next.data):\n",
        "            new = temp.next.next\n",
        "            temp.next = None\n",
        "            temp.next = new\n",
        "        else:\n",
        "            temp = temp.next\n",
        "    return head\n",
        "\n",
        "\n",
        "\n",
        "#Taking Input Using Fast I/O\n",
        "def takeInput() :\n",
        "    head = None\n",
        "    tail = None\n",
        "\n",
        "    datas = list(map(int, stdin.readline().rstrip().split(\" \")))\n",
        "\n",
        "    i = 0\n",
        "    while (i < len(datas)) and (datas[i] != -1) :\n",
        "        data = datas[i]\n",
        "        newNode = Node(data)\n",
        "\n",
        "        if head is None :\n",
        "            head = newNode\n",
        "            tail = newNode\n",
        "\n",
        "        else :\n",
        "            tail.next = newNode\n",
        "            tail = newNode\n",
        "\n",
        "        i += 1\n",
        "\n",
        "    return head\n",
        "\n",
        "\n",
        "#to print the linked list \n",
        "def printLinkedList(head) :\n",
        "\n",
        "    while head is not None :\n",
        "        print(head.data, end = \" \")\n",
        "        head = head.next\n",
        "\n",
        "    print()\n",
        "\n",
        "\n",
        "#main\n",
        "t = int(stdin.readline().strip())\n",
        "\n",
        "while t > 0 :\n",
        "    head = takeInput()\n",
        "\n",
        "    head = removeDuplicates(head)\n",
        "    printLinkedList(head)\n",
        "\n",
        "    t -= 1"
      ],
      "metadata": {
        "id": "vyzqR3bzHfmz"
      },
      "execution_count": null,
      "outputs": []
    },
    {
      "cell_type": "markdown",
      "source": [
        "# Linked List -2\n"
      ],
      "metadata": {
        "id": "gVhJf8KzOKjY"
      }
    },
    {
      "cell_type": "markdown",
      "source": [
        "# Reverse Linked List -1 (using Recursion) O(n^2)"
      ],
      "metadata": {
        "id": "MVxM_MNZOQcq"
      }
    },
    {
      "cell_type": "code",
      "source": [
        "class Node:\n",
        "  def __init__(self,data):\n",
        "    self.data=data\n",
        "    self.next=None\n",
        "def printLL(head):\n",
        "  while head is not None:\n",
        "    print(str(head.data)+\"->\",end=\" \")\n",
        "    head=head.next\n",
        "  print(\"None\")\n",
        "  return \n",
        "def takeInput(): \n",
        "  inputList=[int(ele) for ele in input().split()]\n",
        "  head=None\n",
        "  for currData in inputList:\n",
        "    if currData==-1:\n",
        "      break\n",
        "    newNode=Node(currData)\n",
        "    if head is None:\n",
        "      head=newNode\n",
        "    else:\n",
        "      curr=head\n",
        "      while curr.next is not None:\n",
        "        curr=curr.next\n",
        "      curr.next=newNode\n",
        "  return head\n",
        "\n",
        "def reverse1(head):\n",
        "  if head is  None or head.next is None:\n",
        "    return head\n",
        "  smallhead=reverse1(head.next)\n",
        "  curr=smallhead\n",
        "  while curr.next is not None:\n",
        "    curr=curr.next\n",
        "  curr.next=head\n",
        "  head.next=None\n",
        "  return smallhead\n",
        "\n",
        "head=takeInput()\n",
        "printLL(head)\n",
        "head=reverse1(head)\n",
        "printLL(head)"
      ],
      "metadata": {
        "colab": {
          "base_uri": "https://localhost:8080/"
        },
        "id": "M8Jg03buOJhp",
        "outputId": "1a060940-996a-4a0d-f65d-b5e1a8a638f7"
      },
      "execution_count": null,
      "outputs": [
        {
          "output_type": "stream",
          "name": "stdout",
          "text": [
            "1 2 3 4 5 6\n",
            "1-> 2-> 3-> 4-> 5-> 6-> None\n",
            "6-> 5-> 4-> 3-> 2-> 1-> None\n"
          ]
        }
      ]
    },
    {
      "cell_type": "markdown",
      "source": [
        "# Reverse Linked List -2 (using Recursion) O(n)"
      ],
      "metadata": {
        "id": "ni2dJ9uOgtWA"
      }
    },
    {
      "cell_type": "code",
      "source": [
        "class Node:\n",
        "  def __init__(self,data):\n",
        "    self.data=data\n",
        "    self.next=None\n",
        "def printLL(head):\n",
        "  while head is not None:\n",
        "    print(str(head.data)+\"->\",end=\" \")\n",
        "    head=head.next\n",
        "  print(\"None\")\n",
        "  return \n",
        "def takeInput(): \n",
        "  inputList=[int(ele) for ele in input().split()]\n",
        "  head=None\n",
        "  for currData in inputList:\n",
        "    if currData==-1:\n",
        "      break\n",
        "    newNode=Node(currData)\n",
        "    if head is None:\n",
        "      head=newNode\n",
        "    else:\n",
        "      curr=head\n",
        "      while curr.next is not None:\n",
        "        curr=curr.next\n",
        "      curr.next=newNode\n",
        "  return head\n",
        "\n",
        "def reverse2(head):\n",
        "  if head is None or head.next is None:\n",
        "    return head,head\n",
        "  smallhead,smalltail=reverse2(head.next)\n",
        "  smalltail.next=head\n",
        "  head.next=None\n",
        "  return smallhead,head\n",
        "\n",
        "head=takeInput()\n",
        "printLL(head)\n",
        "head,tail=reverse2(head)\n",
        "printLL(head)"
      ],
      "metadata": {
        "colab": {
          "base_uri": "https://localhost:8080/"
        },
        "id": "VrApeKxCgsex",
        "outputId": "190c46be-86bd-42d7-b87a-0b0539dcc195"
      },
      "execution_count": null,
      "outputs": [
        {
          "output_type": "stream",
          "name": "stdout",
          "text": [
            "1 2 3 4 5 6\n",
            "1-> 2-> 3-> 4-> 5-> 6-> None\n",
            "6-> 5-> 4-> 3-> 2-> 1-> None\n"
          ]
        }
      ]
    },
    {
      "cell_type": "markdown",
      "source": [
        "# Reverse Linked List -3 (using Recursion) O(n) Best"
      ],
      "metadata": {
        "id": "8ewlupVRQtfV"
      }
    },
    {
      "cell_type": "code",
      "source": [
        "class Node:\n",
        "  def __init__(self,data):\n",
        "    self.data=data\n",
        "    self.next=None\n",
        "def printLL(head):\n",
        "  while head is not None:\n",
        "    print(str(head.data)+\"->\",end=\" \")\n",
        "    head=head.next\n",
        "  print(\"None\")\n",
        "  return \n",
        "def takeInput(): \n",
        "  inputList=[int(ele) for ele in input().split()]\n",
        "  head=None\n",
        "  for currData in inputList:\n",
        "    if currData==-1:\n",
        "      break\n",
        "    newNode=Node(currData)\n",
        "    if head is None:\n",
        "      head=newNode\n",
        "    else:\n",
        "      curr=head\n",
        "      while curr.next is not None:\n",
        "        curr=curr.next\n",
        "      curr.next=newNode\n",
        "  return head\n",
        "\n",
        "def reverse3(head):\n",
        "  if head is None or head.next is None:\n",
        "    return head\n",
        "  smallhead=reverse3(head.next)\n",
        "  tail=head.next\n",
        "  tail.next=head\n",
        "  head.next=None\n",
        "  return smallhead\n",
        "\n",
        "head=takeInput()\n",
        "printLL(head)\n",
        "head=reverse3(head)\n",
        "printLL(head)"
      ],
      "metadata": {
        "colab": {
          "base_uri": "https://localhost:8080/"
        },
        "id": "6f0R4eXSQsto",
        "outputId": "283e87a6-d3e3-48ee-dd7d-cc3e3e565c58"
      },
      "execution_count": null,
      "outputs": [
        {
          "output_type": "stream",
          "name": "stdout",
          "text": [
            "1 2 3 4 5 6 -1\n",
            "1-> 2-> 3-> 4-> 5-> 6-> None\n",
            "6-> 5-> 4-> 3-> 2-> 1-> None\n"
          ]
        }
      ]
    },
    {
      "cell_type": "markdown",
      "source": [
        "# Reverse Linked List Itratievely"
      ],
      "metadata": {
        "id": "h0MJROt9eTh9"
      }
    },
    {
      "cell_type": "code",
      "source": [
        "class Node:\n",
        "  def __init__(self,data):\n",
        "    self.data=data\n",
        "    self.next=None\n",
        "def printLL(head):\n",
        "  while head is not None:\n",
        "    print(str(head.data)+\"->\",end=\" \")\n",
        "    head=head.next\n",
        "  print(\"None\")\n",
        "  return \n",
        "def takeInput(): \n",
        "  inputList=[int(ele) for ele in input().split()]\n",
        "  head=None\n",
        "  for currData in inputList:\n",
        "    if currData==-1:\n",
        "      break\n",
        "    newNode=Node(currData)\n",
        "    if head is None:\n",
        "      head=newNode\n",
        "    else:\n",
        "      curr=head\n",
        "      while curr.next is not None:\n",
        "        curr=curr.next\n",
        "      curr.next=newNode\n",
        "  return head\n",
        "\n",
        "def reverse4(head):\n",
        "  curr=head\n",
        "  prev=None\n",
        "  while curr is not None:\n",
        "    next1=curr.next\n",
        "    curr.next=prev\n",
        "    prev=curr\n",
        "    curr=next1\n",
        "    head=prev\n",
        "  return head\n",
        "\n",
        "head=takeInput()\n",
        "printLL(head)\n",
        "head=reverse4(head)\n",
        "printLL(head)"
      ],
      "metadata": {
        "colab": {
          "base_uri": "https://localhost:8080/"
        },
        "id": "rd3lAklfW6ZZ",
        "outputId": "129fba0f-15bb-405e-983c-1020c5374d11"
      },
      "execution_count": null,
      "outputs": [
        {
          "output_type": "stream",
          "name": "stdout",
          "text": [
            "1 2 3 4 5 6\n",
            "1-> 2-> 3-> 4-> 5-> 6-> None\n",
            "6-> 5-> 4-> 3-> 2-> 1-> None\n"
          ]
        }
      ]
    },
    {
      "cell_type": "markdown",
      "source": [
        "# Midpoint of a Linked List"
      ],
      "metadata": {
        "id": "e1qroTcieq9r"
      }
    },
    {
      "cell_type": "code",
      "source": [
        "class Node:\n",
        "  def __init__(self,data):\n",
        "    self.data=data\n",
        "    self.next=None\n",
        "def printLL(head):\n",
        "  while head is not None:\n",
        "    print(str(head.data)+\"->\",end=\" \")\n",
        "    head=head.next\n",
        "  print(\"None\")\n",
        "  return \n",
        "def takeInput(): \n",
        "  inputList=[int(ele) for ele in input().split()]\n",
        "  head=None\n",
        "  for currData in inputList:\n",
        "    if currData==-1:\n",
        "      break\n",
        "    newNode=Node(currData)\n",
        "    if head is None:\n",
        "      head=newNode\n",
        "    else:\n",
        "      curr=head\n",
        "      while curr.next is not None:\n",
        "        curr=curr.next\n",
        "      curr.next=newNode\n",
        "  return head\n",
        "\n",
        "def midpoint(head):\n",
        "  fast=head\n",
        "  slow=head\n",
        "  while (fast.next!=None and fast.next.next!=None):\n",
        "    slow=slow.next\n",
        "    fast=fast.next.next\n",
        "  print(slow.data)\n",
        "\n",
        "head=takeInput()\n",
        "printLL(head)\n",
        "head=midpoint(head)\n",
        "printLL(head)"
      ],
      "metadata": {
        "colab": {
          "base_uri": "https://localhost:8080/"
        },
        "id": "F8R8mwOXewmp",
        "outputId": "8a61a19f-6b34-4697-812c-b5fe59830b0a"
      },
      "execution_count": null,
      "outputs": [
        {
          "output_type": "stream",
          "name": "stdout",
          "text": [
            "1 2 3 4\n",
            "1-> 2-> 3-> 4-> None\n",
            "2\n",
            "None\n"
          ]
        }
      ]
    },
    {
      "cell_type": "markdown",
      "source": [
        "# Merge Two Sorted LL"
      ],
      "metadata": {
        "id": "H1X2T2yfNEzK"
      }
    },
    {
      "cell_type": "code",
      "source": [
        "from sys import stdin\n",
        "\n",
        "class Node :\n",
        "    def __init__(self, data) :\n",
        "        self.data = data\n",
        "        self.next = None\n",
        "\n",
        "\n",
        "\n",
        "def mergeTwoSortedLinkedLists(head1, head2):\n",
        "\n",
        "    # Write your code here\n",
        "    if head1 is None:\n",
        "        return head2\n",
        "    if head2 is None:\n",
        "        return head1\n",
        "    new_head=None\n",
        "    new_tail=None\n",
        "    temp1,temp2=head1,head2\n",
        "    if head1.data<head2.data:\n",
        "        new_head=temp1\n",
        "        new_tail=temp1\n",
        "        temp1=temp1.next\n",
        "        new_tail.next=None\n",
        "    else:\n",
        "        new_head=temp2\n",
        "        new_tail=temp2\n",
        "        temp2=temp2.next\n",
        "        new_tail.next=None\n",
        "    while temp1!=None and temp2!=None:\n",
        "        if temp1.data<temp2.data:\n",
        "            new_tail.next=temp1\n",
        "            new_tail=temp1\n",
        "            temp1=temp1.next\n",
        "            new_tail.next=None\n",
        "        else:\n",
        "            new_tail.next=temp2\n",
        "            new_tail=temp2\n",
        "            temp2=temp2.next\n",
        "            new_tail.next=None\n",
        "    if temp1!=None:\n",
        "        new_tail.next=temp1\n",
        "    if temp2!=None:\n",
        "        new_tail.next=temp2\n",
        "    return new_head    \n",
        "    pass\n",
        "\n",
        "#Taking Input Using Fast I/O\n",
        "def takeInput() :\n",
        "    head = None\n",
        "    tail = None\n",
        "\n",
        "    datas = list(map(int, stdin.readline().rstrip().split(\" \")))\n",
        "\n",
        "    i = 0\n",
        "    while (i < len(datas)) and (datas[i] != -1) :\n",
        "        data = datas[i]\n",
        "        newNode = Node(data)\n",
        "\n",
        "        if head is None :\n",
        "            head = newNode\n",
        "            tail = newNode\n",
        "\n",
        "        else :\n",
        "            tail.next = newNode\n",
        "            tail = newNode\n",
        "\n",
        "        i += 1\n",
        "\n",
        "    return head\n",
        "\n",
        "def printLinkedList(head) :\n",
        "\n",
        "    while head is not None :\n",
        "        print(head.data, end = \" \")\n",
        "        head = head.next\n",
        "\n",
        "    print()\n",
        "\n",
        "\n",
        "# Main\n",
        "t = int(stdin.readline().rstrip())\n",
        "\n",
        "while t > 0 :\n",
        "    \n",
        "    head1 = takeInput()\n",
        "    head2 = takeInput()\n",
        "\n",
        "    newHead = mergeTwoSortedLinkedLists(head1, head2)\n",
        "    printLinkedList(newHead)\n",
        "\n",
        "    t -= 1"
      ],
      "metadata": {
        "id": "yt2BEgIy6YLk"
      },
      "execution_count": null,
      "outputs": []
    }
  ]
}